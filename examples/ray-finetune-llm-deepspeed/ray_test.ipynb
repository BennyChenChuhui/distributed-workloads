{
 "cells": [
  {
   "cell_type": "code",
   "execution_count": null,
   "id": "4d8af0ce-431f-4c5d-bdb7-5a55af47cc64",
   "metadata": {
    "tags": []
   },
   "outputs": [],
   "source": [
    "!pip install codeflare_sdk==0.18.0\n",
    "from codeflare_sdk.cluster.cluster import Cluster, ClusterConfiguration\n",
    "from codeflare_sdk.cluster.auth import TokenAuthentication\n",
    "import os\n",
    "import sys"
   ]
  },
  {
   "cell_type": "markdown",
   "id": "8a2bdf96-71d8-48f9-9703-d530a8395145",
   "metadata": {},
   "source": [
    "# Authenticate the CodeFlare SDK\n",
    "# On OpenShift, you can retrieve the token by running `oc whoami -t`,\n",
    "# and the server with `oc cluster-info`.\n",
    "auth = TokenAuthentication(\n",
    "    token = 'sha256~dCwXtE4Y97menO4jubfTDP_A_vDS6tl0lOR3iZcTfRc',\n",
    "    server = 'https://api.cluster-pjh7q.pjh7q.sandbox566.opentlc.com:6443',\n",
    "    skip_tls=True\n",
    ")\n",
    "auth.login()"
   ]
  },
  {
   "cell_type": "markdown",
   "id": "8ac29dd5-3f83-484c-a5c8-93e975a1fd18",
   "metadata": {},
   "source": [
    "# Configure the Ray cluster\n",
    "cluster = Cluster(ClusterConfiguration(\n",
    "    name='raycluster1',\n",
    "    namespace='ray-project',\n",
    "    num_workers=1,\n",
    "    worker_cpu_requests=1,\n",
    "    worker_cpu_limits=1,\n",
    "    head_cpus=1,\n",
    "    worker_memory_requests=2,\n",
    "    worker_memory_limits=4,\n",
    "    head_memory=4,\n",
    "    # Use the following parameters with NVIDIA GPUs\n",
    "    image=\"quay.io/rhoai/ray:2.35.0-py39-cu121-torch24-fa26\",\n",
    "    head_extended_resource_requests={'nvidia.com/gpu':0},\n",
    "    worker_extended_resource_requests={'nvidia.com/gpu':0},\n",
    "    # Or replace them with these parameters for AMD GPUs\n",
    "    # image=\"quay.io/rhoai/ray:2.35.0-py39-rocm61-torch24-fa26\",\n",
    "    # head_extended_resource_requests={'amd.com/gpu':1},\n",
    "    # worker_extended_resource_requests={'amd.com/gpu':1},\n",
    "))"
   ]
  },
  {
   "cell_type": "markdown",
   "id": "89d7c2b6-8f30-4bd1-9efb-70f3af1f1802",
   "metadata": {},
   "source": [
    "# Create the Ray cluster\n",
    "cluster.up()"
   ]
  },
  {
   "cell_type": "markdown",
   "id": "ed2f7eca-8e12-4f50-8b3f-b0244474c8ff",
   "metadata": {},
   "source": [
    "cluster.wait_ready()"
   ]
  },
  {
   "cell_type": "code",
   "execution_count": null,
   "id": "dba71886-b1b4-4912-a981-0230c59998ef",
   "metadata": {},
   "outputs": [],
   "source": [
    "cluster.details()"
   ]
  },
  {
   "cell_type": "markdown",
   "id": "494fee8a-4fc4-411b-969b-b68d0141ed74",
   "metadata": {
    "tags": []
   },
   "source": [
    "# Initialize the Job Submission Client and Run a job"
   ]
  },
  {
   "cell_type": "markdown",
   "id": "f0cfe26b-a335-4327-8475-f34f09b8546e",
   "metadata": {
    "tags": []
   },
   "source": [
    "cluster.down()"
   ]
  },
  {
   "cell_type": "markdown",
   "id": "384e1f00-ca9c-4ce6-aed9-0678a386cc18",
   "metadata": {},
   "source": [
    "auth.logout()"
   ]
  },
  {
   "cell_type": "markdown",
   "id": "522e1931-a4e8-40b0-927e-16915a3146f6",
   "metadata": {},
   "source": [
    "# Authenticate the CodeFlare SDK\n",
    "# On OpenShift, you can retrieve the token by running `oc whoami -t`,\n",
    "# and the server with `oc cluster-info`.\n",
    "auth2 = TokenAuthentication(\n",
    "    token = 'sha256~dxpVH0SoN6IXePZ_cJ1fUjQrRvEhspwp9E-nRXTyyfA',\n",
    "    server = 'https://api.cluster-fn66l.fn66l.sandbox2535.opentlc.com:6443',\n",
    "    skip_tls=True\n",
    ")\n",
    "auth2.login()"
   ]
  },
  {
   "cell_type": "markdown",
   "id": "2b639319-f3ce-4bf2-814e-1697955d0eff",
   "metadata": {},
   "source": [
    "# Configure the Ray cluster\n",
    "cluster2 = Cluster(ClusterConfiguration(\n",
    "    name='raycluster2',\n",
    "    namespace='ray-project',\n",
    "    num_workers=1,\n",
    "    worker_cpu_requests=1,\n",
    "    worker_cpu_limits=1,\n",
    "    head_cpus=1,\n",
    "    worker_memory_requests=2,\n",
    "    worker_memory_limits=4,\n",
    "    head_memory=4,\n",
    "    # Use the following parameters with NVIDIA GPUs\n",
    "    image=\"quay.io/rhoai/ray:2.35.0-py39-cu121-torch24-fa26\",\n",
    "    # head_extended_resource_requests={'nvidia.com/gpu':1},\n",
    "    # worker_extended_resource_requests={'nvidia.com/gpu':1},\n",
    "    # Or replace them with these parameters for AMD GPUs\n",
    "    # image=\"quay.io/rhoai/ray:2.35.0-py39-rocm61-torch24-fa26\",\n",
    "    # head_extended_resource_requests={'amd.com/gpu':1},\n",
    "    # worker_extended_resource_requests={'amd.com/gpu':1},\n",
    "))"
   ]
  },
  {
   "cell_type": "markdown",
   "id": "e7ab6d19-eb75-4499-ab95-e4eddad31845",
   "metadata": {},
   "source": [
    "# Create the Ray cluster\n",
    "cluster2.up()"
   ]
  },
  {
   "cell_type": "markdown",
   "id": "be2439c5-a96a-4837-85e2-c2a678b2d82b",
   "metadata": {},
   "source": [
    "cluster2.wait_ready()"
   ]
  },
  {
   "cell_type": "markdown",
   "id": "b6963550-47f5-40b6-a23a-cfb2f718cb29",
   "metadata": {},
   "source": [
    "cluster2.details()"
   ]
  },
  {
   "cell_type": "markdown",
   "id": "18065d2b-a12e-4c80-acf1-4f943a9c41c0",
   "metadata": {},
   "source": [
    "# Initialize the Job Submission Client and Run another job"
   ]
  },
  {
   "cell_type": "markdown",
   "id": "3ebc432d-3c22-4279-b768-53475775067b",
   "metadata": {},
   "source": [
    "cluster2.down()"
   ]
  },
  {
   "cell_type": "markdown",
   "id": "be4218c2-85f5-439f-8f99-3f7b4a5bfcc7",
   "metadata": {
    "tags": []
   },
   "source": [
    "auth2.logout()"
   ]
  },
  {
   "cell_type": "markdown",
   "id": "56b81c67-5820-4f38-9f77-bd247144c361",
   "metadata": {},
   "source": []
  }
 ],
 "metadata": {
  "kernelspec": {
   "display_name": "Python 3.9",
   "language": "python",
   "name": "python3"
  },
  "language_info": {
   "codemirror_mode": {
    "name": "ipython",
    "version": 3
   },
   "file_extension": ".py",
   "mimetype": "text/x-python",
   "name": "python",
   "nbconvert_exporter": "python",
   "pygments_lexer": "ipython3",
   "version": "3.9.18"
  }
 },
 "nbformat": 4,
 "nbformat_minor": 5
}
