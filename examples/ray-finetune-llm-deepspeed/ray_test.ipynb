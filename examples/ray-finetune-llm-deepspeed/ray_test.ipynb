{
 "cells": [
  {
   "cell_type": "code",
   "execution_count": null,
   "id": "204a90fb-da94-426a-8c0c-3a0c61b01086",
   "metadata": {
    "tags": []
   },
   "outputs": [],
   "source": [
    "!pip install codeflare_sdk==0.18.0\n",
    "from codeflare_sdk.cluster.cluster import Cluster, ClusterConfiguration\n",
    "from codeflare_sdk.cluster.auth import TokenAuthentication\n",
    "import os\n",
    "import sys"
   ]
  },
  {
   "cell_type": "code",
   "execution_count": null,
   "id": "440b98a3-8ed3-4072-9cc2-763d0e6c6f00",
   "metadata": {},
   "outputs": [],
   "source": [
    "# Authenticate the CodeFlare SDK\n",
    "# On OpenShift, you can retrieve the token by running `oc whoami -t`,\n",
    "# and the server with `oc cluster-info`.\n",
    "auth = TokenAuthentication(\n",
    "    token = 'sha256~F3N-kqvYuvWFPW5iq9h59GsRnKlN47_u2RQSV3c2dyo',\n",
    "    server = 'https://api.cluster-pjh7q.pjh7q.sandbox566.opentlc.com:6443',\n",
    "    skip_tls=True\n",
    ")\n",
    "auth.login()"
   ]
  },
  {
   "cell_type": "code",
   "execution_count": null,
   "id": "4d340f86-1a04-48d3-a5e7-067faecfc17a",
   "metadata": {},
   "outputs": [],
   "source": [
    "# Configure the Ray cluster\n",
    "cluster = Cluster(ClusterConfiguration(\n",
    "    name='raycluster-01',\n",
    "    namespace='ray-project',\n",
    "    num_workers=1,\n",
    "    worker_cpu_requests=1,\n",
    "    worker_cpu_limits=1,\n",
    "    head_cpus=1,\n",
    "    worker_memory_requests=2,\n",
    "    worker_memory_limits=4,\n",
    "    head_memory=4,\n",
    "    # Use the following parameters with NVIDIA GPUs\n",
    "    image=\"quay.io/rhoai/ray:2.35.0-py39-cu121-torch24-fa26\",\n",
    "    # head_extended_resource_requests={'nvidia.com/gpu':1},\n",
    "    # worker_extended_resource_requests={'nvidia.com/gpu':1},\n",
    "    # Or replace them with these parameters for AMD GPUs\n",
    "    # image=\"quay.io/rhoai/ray:2.35.0-py39-rocm61-torch24-fa26\",\n",
    "    # head_extended_resource_requests={'amd.com/gpu':1},\n",
    "    # worker_extended_resource_requests={'amd.com/gpu':1},\n",
    "))"
   ]
  },
  {
   "cell_type": "code",
   "execution_count": null,
   "id": "cee11013-8646-4cda-94a2-f8e731baa1ca",
   "metadata": {},
   "outputs": [],
   "source": [
    "# Create the Ray cluster\n",
    "cluster.up()"
   ]
  },
  {
   "cell_type": "code",
   "execution_count": null,
   "id": "709a09df-3871-4791-9763-5dcdc081bec4",
   "metadata": {},
   "outputs": [],
   "source": [
    "cluster.wait_ready()"
   ]
  },
  {
   "cell_type": "code",
   "execution_count": null,
   "id": "24ccda92-a0f0-4845-a13c-6aa735e75d5a",
   "metadata": {},
   "outputs": [],
   "source": [
    "cluster.details()"
   ]
  },
  {
   "cell_type": "code",
   "execution_count": null,
   "id": "fb29e733-eac5-4f3d-bbfa-543e8ee7fd1b",
   "metadata": {
    "tags": []
   },
   "outputs": [],
   "source": [
    "# Initialize the Job Submission Client"
   ]
  },
  {
   "cell_type": "code",
   "execution_count": null,
   "id": "f456f161-5122-4057-a5ac-f7f6b38651ec",
   "metadata": {
    "tags": []
   },
   "outputs": [],
   "source": [
    "cluster.down()"
   ]
  },
  {
   "cell_type": "code",
   "execution_count": null,
   "id": "aec613b1-97fe-4447-af2f-ba6df72f6aba",
   "metadata": {},
   "outputs": [],
   "source": [
    "auth.logout()"
   ]
  },
  {
   "cell_type": "code",
   "execution_count": null,
   "id": "2eaf99ca-cfcd-4190-a2e1-6371892926ab",
   "metadata": {},
   "outputs": [],
   "source": [
    "# Authenticate the CodeFlare SDK\n",
    "# On OpenShift, you can retrieve the token by running `oc whoami -t`,\n",
    "# and the server with `oc cluster-info`.\n",
    "auth2 = TokenAuthentication(\n",
    "    token = 'sha256~dxpVH0SoN6IXePZ_cJ1fUjQrRvEhspwp9E-nRXTyyfA',\n",
    "    server = 'https://api.cluster-fn66l.fn66l.sandbox2535.opentlc.com:6443',\n",
    "    skip_tls=True\n",
    ")\n",
    "auth2.login()"
   ]
  },
  {
   "cell_type": "code",
   "execution_count": null,
   "id": "e7dcd8b2-519d-4352-8882-33bcf44809ff",
   "metadata": {},
   "outputs": [],
   "source": [
    "# Configure the Ray cluster\n",
    "cluster2 = Cluster(ClusterConfiguration(\n",
    "    name='raycluster-02',\n",
    "    namespace='ray-project',\n",
    "    num_workers=1,\n",
    "    worker_cpu_requests=1,\n",
    "    worker_cpu_limits=1,\n",
    "    head_cpus=1,\n",
    "    worker_memory_requests=2,\n",
    "    worker_memory_limits=4,\n",
    "    head_memory=4,\n",
    "    # Use the following parameters with NVIDIA GPUs\n",
    "    image=\"quay.io/rhoai/ray:2.35.0-py39-cu121-torch24-fa26\",\n",
    "    # head_extended_resource_requests={'nvidia.com/gpu':1},\n",
    "    # worker_extended_resource_requests={'nvidia.com/gpu':1},\n",
    "    # Or replace them with these parameters for AMD GPUs\n",
    "    # image=\"quay.io/rhoai/ray:2.35.0-py39-rocm61-torch24-fa26\",\n",
    "    # head_extended_resource_requests={'amd.com/gpu':1},\n",
    "    # worker_extended_resource_requests={'amd.com/gpu':1},\n",
    "))"
   ]
  },
  {
   "cell_type": "code",
   "execution_count": null,
   "id": "e54a5627-5853-44f3-962c-ddea12a04b70",
   "metadata": {},
   "outputs": [],
   "source": [
    "# Create the Ray cluster\n",
    "cluster2.up()"
   ]
  },
  {
   "cell_type": "code",
   "execution_count": null,
   "id": "56f02072-e712-4e34-8145-8da49852bf3e",
   "metadata": {},
   "outputs": [],
   "source": [
    "cluster2.wait_ready()"
   ]
  },
  {
   "cell_type": "code",
   "execution_count": null,
   "id": "b546ebad-d807-4fa4-8b1b-98685340077d",
   "metadata": {},
   "outputs": [],
   "source": [
    "cluster2.details()"
   ]
  },
  {
   "cell_type": "code",
   "execution_count": null,
   "id": "5142d3d2-0ce8-45a5-b29d-53fe072b910a",
   "metadata": {},
   "outputs": [],
   "source": [
    "# Initialize the Job Submission Client"
   ]
  },
  {
   "cell_type": "code",
   "execution_count": null,
   "id": "f3dbf740-63ce-4b23-a40b-db0c51b9b812",
   "metadata": {},
   "outputs": [],
   "source": [
    "cluster2.down()"
   ]
  },
  {
   "cell_type": "code",
   "execution_count": null,
   "id": "e37780ac-10a8-4ade-99ed-344d755355f5",
   "metadata": {},
   "outputs": [],
   "source": [
    "auth2.logout()"
   ]
  }
 ],
 "metadata": {
  "kernelspec": {
   "display_name": "Python 3.9",
   "language": "python",
   "name": "python3"
  },
  "language_info": {
   "codemirror_mode": {
    "name": "ipython",
    "version": 3
   },
   "file_extension": ".py",
   "mimetype": "text/x-python",
   "name": "python",
   "nbconvert_exporter": "python",
   "pygments_lexer": "ipython3",
   "version": "3.9.18"
  }
 },
 "nbformat": 4,
 "nbformat_minor": 5
}
